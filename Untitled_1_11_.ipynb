{
  "cells": [
    {
      "cell_type": "markdown",
      "metadata": {
        "id": "view-in-github",
        "colab_type": "text"
      },
      "source": [
        "<a href=\"https://colab.research.google.com/github/Laveluca/Bai-tap-AI/blob/main/Untitled_1_11_.ipynb\" target=\"_parent\"><img src=\"https://colab.research.google.com/assets/colab-badge.svg\" alt=\"Open In Colab\"/></a>"
      ]
    },
    {
      "cell_type": "code",
      "execution_count": null,
      "metadata": {
        "colab": {
          "base_uri": "https://localhost:8080/"
        },
        "id": "_yy9aYiEKDc5",
        "outputId": "c30e12f9-0707-4023-8d1d-53ee3749c44e"
      },
      "outputs": [
        {
          "name": "stdout",
          "output_type": "stream",
          "text": [
            "Downloading data from https://storage.googleapis.com/tensorflow/tf-keras-datasets/mnist.npz\n",
            "11490434/11490434 [==============================] - 0s 0us/step\n"
          ]
        }
      ],
      "source": [
        "from keras.datasets import mnist\n",
        "(x_train, y_train),(x_test, y_test) = mnist.load_data()"
      ]
    },
    {
      "cell_type": "code",
      "execution_count": null,
      "metadata": {
        "id": "-dmkLG_kXyaj"
      },
      "outputs": [],
      "source": [
        "from keras.datasets import mnist\n",
        "from matplotlib import pyplot\n",
        "from keras.models import Sequential, Model\n",
        "from keras.layers import Dense, Dropout, Activation, Flatten\n",
        "from keras.layers import Conv2D, MaxPooling2D\n",
        "\n",
        "(x_train, y_train),(x_test,y_test)= mnist.load_data()"
      ]
    },
    {
      "cell_type": "code",
      "execution_count": null,
      "metadata": {
        "id": "ZoGV7JfdX0rl"
      },
      "outputs": [],
      "source": [
        "from keras.datasets import cifar10\n",
        "from sklearn.model_selection import train_test_split\n",
        "import matplotlib.pyplot as plt\n",
        "import numpy as np\n",
        "from keras.utils import np_utils\n",
        "from keras.models import Sequential\n",
        "from keras.layers import Dense, Activation, Dropout, Conv2D, MaxPooling2D, Flatten\n",
        "from tensorflow.keras.optimizers import RMSprop\n",
        "from keras.callbacks import EarlyStopping\n",
        "from sklearn.utils import validation \n",
        "from sklearn import preprocessing"
      ]
    },
    {
      "cell_type": "code",
      "execution_count": null,
      "metadata": {
        "id": "qRXtlu_BX8BY"
      },
      "outputs": [],
      "source": [
        "from keras.utils import to_categorical\n",
        "y_train = to_categorical(y_train)\n",
        "y_test = to_categorical(y_test)"
      ]
    },
    {
      "cell_type": "code",
      "execution_count": null,
      "metadata": {
        "colab": {
          "base_uri": "https://localhost:8080/"
        },
        "id": "NIImcnxWYAS2",
        "outputId": "ad99217d-8a97-44ae-d353-8b9650464e6c"
      },
      "outputs": [
        {
          "data": {
            "text/plain": [
              "(60000, 28, 28)"
            ]
          },
          "execution_count": 25,
          "metadata": {},
          "output_type": "execute_result"
        }
      ],
      "source": [
        "x_train.shape"
      ]
    },
    {
      "cell_type": "code",
      "execution_count": null,
      "metadata": {
        "id": "8YIW-8_eLd7V"
      },
      "outputs": [],
      "source": [
        "from keras.layers.convolutional.conv1d import Conv\n",
        "from keras.utils import load_img\n",
        "model = Sequential()\n",
        "model.add(Conv2D(32,kernel_size = (3,3),activation='relu',input_shape=(28,28,1),padding=\"same\"))\n",
        "model.add(MaxPooling2D((2,2),padding=\"same\"))\n",
        "\n",
        "model.add(Conv2D(64,kernel_size = (3,3), activation='relu',padding='same'))\n",
        "model.add(MaxPooling2D((2,2),padding='same'))\n",
        "\n",
        "model.add(Conv2D(128,kernel_size = (3,3), activation='relu',padding='same'))\n",
        "model.add(MaxPooling2D((2,2),padding='same'))\n",
        "\n",
        "model.add(Flatten())\n",
        "model.add(Dense(128,activation='relu'))\n",
        "model.add(Dense(10,activation='softmax'))"
      ]
    },
    {
      "cell_type": "code",
      "execution_count": null,
      "metadata": {
        "colab": {
          "background_save": true,
          "base_uri": "https://localhost:8080/"
        },
        "id": "H5-8VwN7XaJj",
        "outputId": "0d73de24-2296-4f60-c98b-6caf160d3644"
      },
      "outputs": [
        {
          "output_type": "stream",
          "name": "stdout",
          "text": [
            "Epoch 1/20\n",
            "469/469 - 95s - loss: 0.0140 - accuracy: 0.9959 - 95s/epoch - 203ms/step\n",
            "Epoch 2/20\n",
            "469/469 - 102s - loss: 0.0112 - accuracy: 0.9966 - 102s/epoch - 217ms/step\n",
            "Epoch 3/20\n",
            "469/469 - 91s - loss: 0.0082 - accuracy: 0.9976 - 91s/epoch - 194ms/step\n",
            "Epoch 4/20\n",
            "469/469 - 88s - loss: 0.0115 - accuracy: 0.9965 - 88s/epoch - 188ms/step\n",
            "Epoch 5/20\n"
          ]
        }
      ],
      "source": [
        "model.compile(loss='categorical_crossentropy',metrics=['accuracy'],optimizer='adam')\n",
        "history = model.fit(x_train,y_train,batch_size=128,epochs=20,verbose=2)"
      ]
    },
    {
      "cell_type": "markdown",
      "metadata": {
        "id": "2k97Gelta-v2"
      },
      "source": []
    },
    {
      "cell_type": "code",
      "execution_count": null,
      "metadata": {
        "id": "aQrBs4Y3Z_1r"
      },
      "outputs": [],
      "source": [
        "metric = model.evalute(x_test,y_test, verbose = 2 )\n",
        "print(\"Sai số\", metric[0])\n",
        "print(\"Độ chính xác\",metric[1])"
      ]
    },
    {
      "cell_type": "code",
      "source": [
        "Nhận diện tiền giấy Việt Nam ( 5 , 10 , 20 , 50 , 100 , 500 )\n",
        "NHận diện khuôn mặt "
      ],
      "metadata": {
        "id": "T5cqNLexfokW"
      },
      "execution_count": null,
      "outputs": []
    }
  ],
  "metadata": {
    "colab": {
      "provenance": [],
      "authorship_tag": "ABX9TyN9hZlxbgqlzDicphcqRMKo",
      "include_colab_link": true
    },
    "kernelspec": {
      "display_name": "Python 3",
      "name": "python3"
    },
    "language_info": {
      "name": "python"
    }
  },
  "nbformat": 4,
  "nbformat_minor": 0
}