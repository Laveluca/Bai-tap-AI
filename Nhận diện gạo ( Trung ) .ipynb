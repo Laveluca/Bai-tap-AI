{
  "nbformat": 4,
  "nbformat_minor": 0,
  "metadata": {
    "colab": {
      "provenance": [],
      "authorship_tag": "ABX9TyOWKJYZz30eZE2iWh8n3VD7",
      "include_colab_link": true
    },
    "kernelspec": {
      "name": "python3",
      "display_name": "Python 3"
    },
    "language_info": {
      "name": "python"
    }
  },
  "cells": [
    {
      "cell_type": "markdown",
      "metadata": {
        "id": "view-in-github",
        "colab_type": "text"
      },
      "source": [
        "<a href=\"https://colab.research.google.com/github/Laveluca/Bai-tap-AI/blob/main/Nh%E1%BA%ADn%20di%E1%BB%87n%20g%E1%BA%A1o%20(%20Trung%20)%20.ipynb\" target=\"_parent\"><img src=\"https://colab.research.google.com/assets/colab-badge.svg\" alt=\"Open In Colab\"/></a>"
      ]
    },
    {
      "cell_type": "code",
      "execution_count": 1,
      "metadata": {
        "id": "cFJltsR72znq"
      },
      "outputs": [],
      "source": [
        "import tensorflow as tf\n",
        "import matplotlib.pyplot as plt\n",
        "import numpy as np\n"
      ]
    },
    {
      "cell_type": "code",
      "source": [
        "!jupyter nbconvert --to html /content/Nhan_nhien_gao.ipynb"
      ],
      "metadata": {
        "id": "kv2QR_iI24Tl"
      },
      "execution_count": null,
      "outputs": []
    },
    {
      "cell_type": "code",
      "source": [
        "from google.colab import drive\n",
        "drive.mount('/content/drive/')\n"
      ],
      "metadata": {
        "colab": {
          "base_uri": "https://localhost:8080/"
        },
        "id": "LP5Jemzf24V7",
        "outputId": "251ed545-c852-45be-dd48-b07419368c47"
      },
      "execution_count": 3,
      "outputs": [
        {
          "output_type": "stream",
          "name": "stdout",
          "text": [
            "Mounted at /content/drive/\n"
          ]
        }
      ]
    },
    {
      "cell_type": "code",
      "source": [
        "import os\n",
        "train_image_files_path ='/content/drive/MyDrive/Trung III/Colab ( file ảnh )/Gạo/Train'\n"
      ],
      "metadata": {
        "id": "UhhkBycc5Gt0"
      },
      "execution_count": 4,
      "outputs": []
    },
    {
      "cell_type": "code",
      "source": [
        "from tensorflow.keras.preprocessing.image import ImageDataGenerator\n",
        "train_datagen=ImageDataGenerator(rescale=1/255)\n"
      ],
      "metadata": {
        "id": "F8xdQUxD24Yn"
      },
      "execution_count": 5,
      "outputs": []
    },
    {
      "cell_type": "code",
      "source": [
        "label = ['Arborio','Basmati','Ipsala','Jasmine','Karacadag']\n"
      ],
      "metadata": {
        "id": "_4WiLeY024a3"
      },
      "execution_count": 6,
      "outputs": []
    },
    {
      "cell_type": "code",
      "source": [
        "train_generator = train_datagen.flow_from_directory(train_image_files_path,target_size=(200,200),class_mode='categorical')"
      ],
      "metadata": {
        "colab": {
          "base_uri": "https://localhost:8080/"
        },
        "id": "-9tNLk4k24eB",
        "outputId": "664b7145-1b09-49b7-cd7a-13e35229928e"
      },
      "execution_count": 8,
      "outputs": [
        {
          "output_type": "stream",
          "name": "stdout",
          "text": [
            "Found 500 images belonging to 5 classes.\n"
          ]
        }
      ]
    },
    {
      "cell_type": "code",
      "source": [
        "x_train,y_train=next(train_generator)"
      ],
      "metadata": {
        "id": "CPWtAURP24gU"
      },
      "execution_count": 9,
      "outputs": []
    },
    {
      "cell_type": "code",
      "source": [
        "x_train.shape\n"
      ],
      "metadata": {
        "colab": {
          "base_uri": "https://localhost:8080/"
        },
        "id": "5b9aFru124iv",
        "outputId": "cb2103fd-1235-4405-aa09-00d1b89d04ba"
      },
      "execution_count": 11,
      "outputs": [
        {
          "output_type": "execute_result",
          "data": {
            "text/plain": [
              "(32, 200, 200, 3)"
            ]
          },
          "metadata": {},
          "execution_count": 11
        }
      ]
    },
    {
      "cell_type": "code",
      "source": [
        "y_train.shape"
      ],
      "metadata": {
        "colab": {
          "base_uri": "https://localhost:8080/"
        },
        "id": "y4MnoZ8n24lP",
        "outputId": "7cc2d63e-e00a-42ad-8f10-8e0e83c52275"
      },
      "execution_count": 12,
      "outputs": [
        {
          "output_type": "execute_result",
          "data": {
            "text/plain": [
              "(32, 5)"
            ]
          },
          "metadata": {},
          "execution_count": 12
        }
      ]
    },
    {
      "cell_type": "code",
      "source": [
        "x_train=x_train.reshape(32,120000)\n",
        "x_train=x_train.astype ('float32')\n",
        "x_train=x_train/255\n",
        "x_train.shape"
      ],
      "metadata": {
        "colab": {
          "base_uri": "https://localhost:8080/"
        },
        "id": "talhFAI824oG",
        "outputId": "469e55ea-de88-4803-fec2-5c47aa263742"
      },
      "execution_count": 13,
      "outputs": [
        {
          "output_type": "execute_result",
          "data": {
            "text/plain": [
              "(32, 120000)"
            ]
          },
          "metadata": {},
          "execution_count": 13
        }
      ]
    },
    {
      "cell_type": "code",
      "source": [
        "from keras import models\n",
        "from keras import layers\n",
        "model = models.Sequential()\n",
        "model.add(layers.Dense(512,activation = 'relu',input_shape = (120000,)))\n",
        "model.add(layers.Dense(5,activation = 'softmax'))\n",
        "model.summary()\n"
      ],
      "metadata": {
        "colab": {
          "base_uri": "https://localhost:8080/"
        },
        "id": "ADuz5zXQ24qm",
        "outputId": "8b579ca8-3ef2-4356-ef00-6763f79abe1b"
      },
      "execution_count": 14,
      "outputs": [
        {
          "output_type": "stream",
          "name": "stdout",
          "text": [
            "Model: \"sequential\"\n",
            "_________________________________________________________________\n",
            " Layer (type)                Output Shape              Param #   \n",
            "=================================================================\n",
            " dense (Dense)               (None, 512)               61440512  \n",
            "                                                                 \n",
            " dense_1 (Dense)             (None, 5)                 2565      \n",
            "                                                                 \n",
            "=================================================================\n",
            "Total params: 61,443,077\n",
            "Trainable params: 61,443,077\n",
            "Non-trainable params: 0\n",
            "_________________________________________________________________\n"
          ]
        }
      ]
    },
    {
      "cell_type": "code",
      "source": [
        "model.compile(optimizer=\"rmsprop\", loss = \"categorical_crossentropy\", metrics=[\"accuracy\"])"
      ],
      "metadata": {
        "id": "fmcL4YWj24tU"
      },
      "execution_count": 15,
      "outputs": []
    },
    {
      "cell_type": "code",
      "source": [
        "model.fit(x_train, y_train, epochs = 300, batch_size = 128)"
      ],
      "metadata": {
        "colab": {
          "base_uri": "https://localhost:8080/"
        },
        "id": "UtHLvQ-j24w9",
        "outputId": "3079bfe1-a13c-4b4e-fa8c-c7c6e59936c3"
      },
      "execution_count": 16,
      "outputs": [
        {
          "output_type": "stream",
          "name": "stdout",
          "text": [
            "Epoch 1/300\n",
            "1/1 [==============================] - 1s 1s/step - loss: 1.6097 - accuracy: 0.1562\n",
            "Epoch 2/300\n",
            "1/1 [==============================] - 1s 571ms/step - loss: 1.3290 - accuracy: 0.3125\n",
            "Epoch 3/300\n",
            "1/1 [==============================] - 1s 552ms/step - loss: 1.1134 - accuracy: 0.6562\n",
            "Epoch 4/300\n",
            "1/1 [==============================] - 1s 570ms/step - loss: 1.0566 - accuracy: 0.6250\n",
            "Epoch 5/300\n",
            "1/1 [==============================] - 1s 542ms/step - loss: 0.8778 - accuracy: 0.7188\n",
            "Epoch 6/300\n",
            "1/1 [==============================] - 1s 525ms/step - loss: 0.7705 - accuracy: 0.7500\n",
            "Epoch 7/300\n",
            "1/1 [==============================] - 1s 532ms/step - loss: 0.6668 - accuracy: 0.8438\n",
            "Epoch 8/300\n",
            "1/1 [==============================] - 1s 576ms/step - loss: 0.6057 - accuracy: 0.8750\n",
            "Epoch 9/300\n",
            "1/1 [==============================] - 1s 801ms/step - loss: 0.5546 - accuracy: 0.9688\n",
            "Epoch 10/300\n",
            "1/1 [==============================] - 1s 902ms/step - loss: 0.5130 - accuracy: 0.8750\n",
            "Epoch 11/300\n",
            "1/1 [==============================] - 1s 782ms/step - loss: 0.4722 - accuracy: 0.9688\n",
            "Epoch 12/300\n",
            "1/1 [==============================] - 1s 832ms/step - loss: 0.4337 - accuracy: 0.9375\n",
            "Epoch 13/300\n",
            "1/1 [==============================] - 1s 832ms/step - loss: 0.3968 - accuracy: 0.9688\n",
            "Epoch 14/300\n",
            "1/1 [==============================] - 1s 634ms/step - loss: 0.3633 - accuracy: 0.9688\n",
            "Epoch 15/300\n",
            "1/1 [==============================] - 1s 520ms/step - loss: 0.3329 - accuracy: 0.9688\n",
            "Epoch 16/300\n",
            "1/1 [==============================] - 1s 539ms/step - loss: 0.3063 - accuracy: 0.9688\n",
            "Epoch 17/300\n",
            "1/1 [==============================] - 1s 544ms/step - loss: 0.2817 - accuracy: 0.9688\n",
            "Epoch 18/300\n",
            "1/1 [==============================] - 1s 526ms/step - loss: 0.2600 - accuracy: 0.9688\n",
            "Epoch 19/300\n",
            "1/1 [==============================] - 1s 548ms/step - loss: 0.2400 - accuracy: 1.0000\n",
            "Epoch 20/300\n",
            "1/1 [==============================] - 1s 524ms/step - loss: 0.2217 - accuracy: 0.9688\n",
            "Epoch 21/300\n",
            "1/1 [==============================] - 1s 546ms/step - loss: 0.2047 - accuracy: 1.0000\n",
            "Epoch 22/300\n",
            "1/1 [==============================] - 1s 524ms/step - loss: 0.1897 - accuracy: 1.0000\n",
            "Epoch 23/300\n",
            "1/1 [==============================] - 1s 545ms/step - loss: 0.1748 - accuracy: 1.0000\n",
            "Epoch 24/300\n",
            "1/1 [==============================] - 1s 536ms/step - loss: 0.1618 - accuracy: 1.0000\n",
            "Epoch 25/300\n",
            "1/1 [==============================] - 1s 533ms/step - loss: 0.1490 - accuracy: 1.0000\n",
            "Epoch 26/300\n",
            "1/1 [==============================] - 1s 521ms/step - loss: 0.1381 - accuracy: 1.0000\n",
            "Epoch 27/300\n",
            "1/1 [==============================] - 1s 542ms/step - loss: 0.1275 - accuracy: 1.0000\n",
            "Epoch 28/300\n",
            "1/1 [==============================] - 1s 529ms/step - loss: 0.1181 - accuracy: 1.0000\n",
            "Epoch 29/300\n",
            "1/1 [==============================] - 1s 535ms/step - loss: 0.1093 - accuracy: 1.0000\n",
            "Epoch 30/300\n",
            "1/1 [==============================] - 1s 523ms/step - loss: 0.1015 - accuracy: 1.0000\n",
            "Epoch 31/300\n",
            "1/1 [==============================] - 1s 536ms/step - loss: 0.0940 - accuracy: 1.0000\n",
            "Epoch 32/300\n",
            "1/1 [==============================] - 1s 522ms/step - loss: 0.0876 - accuracy: 1.0000\n",
            "Epoch 33/300\n",
            "1/1 [==============================] - 1s 535ms/step - loss: 0.0815 - accuracy: 1.0000\n",
            "Epoch 34/300\n",
            "1/1 [==============================] - 1s 523ms/step - loss: 0.0760 - accuracy: 1.0000\n",
            "Epoch 35/300\n",
            "1/1 [==============================] - 1s 538ms/step - loss: 0.0706 - accuracy: 1.0000\n",
            "Epoch 36/300\n",
            "1/1 [==============================] - 1s 537ms/step - loss: 0.0658 - accuracy: 1.0000\n",
            "Epoch 37/300\n",
            "1/1 [==============================] - 1s 534ms/step - loss: 0.0612 - accuracy: 1.0000\n",
            "Epoch 38/300\n",
            "1/1 [==============================] - 1s 532ms/step - loss: 0.0570 - accuracy: 1.0000\n",
            "Epoch 39/300\n",
            "1/1 [==============================] - 1s 543ms/step - loss: 0.0529 - accuracy: 1.0000\n",
            "Epoch 40/300\n",
            "1/1 [==============================] - 1s 538ms/step - loss: 0.0494 - accuracy: 1.0000\n",
            "Epoch 41/300\n",
            "1/1 [==============================] - 1s 549ms/step - loss: 0.0460 - accuracy: 1.0000\n",
            "Epoch 42/300\n",
            "1/1 [==============================] - 1s 558ms/step - loss: 0.0430 - accuracy: 1.0000\n",
            "Epoch 43/300\n",
            "1/1 [==============================] - 1s 514ms/step - loss: 0.0400 - accuracy: 1.0000\n",
            "Epoch 44/300\n",
            "1/1 [==============================] - 1s 540ms/step - loss: 0.0374 - accuracy: 1.0000\n",
            "Epoch 45/300\n",
            "1/1 [==============================] - 1s 531ms/step - loss: 0.0349 - accuracy: 1.0000\n",
            "Epoch 46/300\n",
            "1/1 [==============================] - 1s 529ms/step - loss: 0.0328 - accuracy: 1.0000\n",
            "Epoch 47/300\n",
            "1/1 [==============================] - 1s 529ms/step - loss: 0.0306 - accuracy: 1.0000\n",
            "Epoch 48/300\n",
            "1/1 [==============================] - 1s 536ms/step - loss: 0.0288 - accuracy: 1.0000\n",
            "Epoch 49/300\n",
            "1/1 [==============================] - 1s 527ms/step - loss: 0.0269 - accuracy: 1.0000\n",
            "Epoch 50/300\n",
            "1/1 [==============================] - 1s 541ms/step - loss: 0.0253 - accuracy: 1.0000\n",
            "Epoch 51/300\n",
            "1/1 [==============================] - 1s 537ms/step - loss: 0.0237 - accuracy: 1.0000\n",
            "Epoch 52/300\n",
            "1/1 [==============================] - 1s 543ms/step - loss: 0.0222 - accuracy: 1.0000\n",
            "Epoch 53/300\n",
            "1/1 [==============================] - 1s 528ms/step - loss: 0.0208 - accuracy: 1.0000\n",
            "Epoch 54/300\n",
            "1/1 [==============================] - 1s 554ms/step - loss: 0.0196 - accuracy: 1.0000\n",
            "Epoch 55/300\n",
            "1/1 [==============================] - 1s 533ms/step - loss: 0.0183 - accuracy: 1.0000\n",
            "Epoch 56/300\n",
            "1/1 [==============================] - 1s 562ms/step - loss: 0.0172 - accuracy: 1.0000\n",
            "Epoch 57/300\n",
            "1/1 [==============================] - 1s 531ms/step - loss: 0.0162 - accuracy: 1.0000\n",
            "Epoch 58/300\n",
            "1/1 [==============================] - 1s 548ms/step - loss: 0.0152 - accuracy: 1.0000\n",
            "Epoch 59/300\n",
            "1/1 [==============================] - 1s 532ms/step - loss: 0.0143 - accuracy: 1.0000\n",
            "Epoch 60/300\n",
            "1/1 [==============================] - 1s 542ms/step - loss: 0.0135 - accuracy: 1.0000\n",
            "Epoch 61/300\n",
            "1/1 [==============================] - 1s 526ms/step - loss: 0.0126 - accuracy: 1.0000\n",
            "Epoch 62/300\n",
            "1/1 [==============================] - 1s 533ms/step - loss: 0.0119 - accuracy: 1.0000\n",
            "Epoch 63/300\n",
            "1/1 [==============================] - 1s 534ms/step - loss: 0.0112 - accuracy: 1.0000\n",
            "Epoch 64/300\n",
            "1/1 [==============================] - 1s 533ms/step - loss: 0.0105 - accuracy: 1.0000\n",
            "Epoch 65/300\n",
            "1/1 [==============================] - 1s 538ms/step - loss: 0.0099 - accuracy: 1.0000\n",
            "Epoch 66/300\n",
            "1/1 [==============================] - 1s 516ms/step - loss: 0.0094 - accuracy: 1.0000\n",
            "Epoch 67/300\n",
            "1/1 [==============================] - 1s 527ms/step - loss: 0.0088 - accuracy: 1.0000\n",
            "Epoch 68/300\n",
            "1/1 [==============================] - 1s 529ms/step - loss: 0.0083 - accuracy: 1.0000\n",
            "Epoch 69/300\n",
            "1/1 [==============================] - 1s 534ms/step - loss: 0.0078 - accuracy: 1.0000\n",
            "Epoch 70/300\n",
            "1/1 [==============================] - 1s 525ms/step - loss: 0.0074 - accuracy: 1.0000\n",
            "Epoch 71/300\n",
            "1/1 [==============================] - 1s 532ms/step - loss: 0.0070 - accuracy: 1.0000\n",
            "Epoch 72/300\n",
            "1/1 [==============================] - 1s 521ms/step - loss: 0.0066 - accuracy: 1.0000\n",
            "Epoch 73/300\n",
            "1/1 [==============================] - 1s 545ms/step - loss: 0.0062 - accuracy: 1.0000\n",
            "Epoch 74/300\n",
            "1/1 [==============================] - 1s 755ms/step - loss: 0.0058 - accuracy: 1.0000\n",
            "Epoch 75/300\n",
            "1/1 [==============================] - 1s 540ms/step - loss: 0.0055 - accuracy: 1.0000\n",
            "Epoch 76/300\n",
            "1/1 [==============================] - 1s 544ms/step - loss: 0.0052 - accuracy: 1.0000\n",
            "Epoch 77/300\n",
            "1/1 [==============================] - 1s 530ms/step - loss: 0.0049 - accuracy: 1.0000\n",
            "Epoch 78/300\n",
            "1/1 [==============================] - 1s 555ms/step - loss: 0.0047 - accuracy: 1.0000\n",
            "Epoch 79/300\n",
            "1/1 [==============================] - 1s 527ms/step - loss: 0.0044 - accuracy: 1.0000\n",
            "Epoch 80/300\n",
            "1/1 [==============================] - 1s 572ms/step - loss: 0.0042 - accuracy: 1.0000\n",
            "Epoch 81/300\n",
            "1/1 [==============================] - 1s 522ms/step - loss: 0.0039 - accuracy: 1.0000\n",
            "Epoch 82/300\n",
            "1/1 [==============================] - 1s 545ms/step - loss: 0.0037 - accuracy: 1.0000\n",
            "Epoch 83/300\n",
            "1/1 [==============================] - 1s 520ms/step - loss: 0.0035 - accuracy: 1.0000\n",
            "Epoch 84/300\n",
            "1/1 [==============================] - 1s 534ms/step - loss: 0.0033 - accuracy: 1.0000\n",
            "Epoch 85/300\n",
            "1/1 [==============================] - 1s 521ms/step - loss: 0.0031 - accuracy: 1.0000\n",
            "Epoch 86/300\n",
            "1/1 [==============================] - 1s 526ms/step - loss: 0.0030 - accuracy: 1.0000\n",
            "Epoch 87/300\n",
            "1/1 [==============================] - 1s 527ms/step - loss: 0.0028 - accuracy: 1.0000\n",
            "Epoch 88/300\n",
            "1/1 [==============================] - 1s 542ms/step - loss: 0.0027 - accuracy: 1.0000\n",
            "Epoch 89/300\n",
            "1/1 [==============================] - 1s 537ms/step - loss: 0.0025 - accuracy: 1.0000\n",
            "Epoch 90/300\n",
            "1/1 [==============================] - 1s 795ms/step - loss: 0.0024 - accuracy: 1.0000\n",
            "Epoch 91/300\n",
            "1/1 [==============================] - 1s 1s/step - loss: 0.0023 - accuracy: 1.0000\n",
            "Epoch 92/300\n",
            "1/1 [==============================] - 1s 827ms/step - loss: 0.0022 - accuracy: 1.0000\n",
            "Epoch 93/300\n",
            "1/1 [==============================] - 1s 816ms/step - loss: 0.0020 - accuracy: 1.0000\n",
            "Epoch 94/300\n",
            "1/1 [==============================] - 1s 842ms/step - loss: 0.0019 - accuracy: 1.0000\n",
            "Epoch 95/300\n",
            "1/1 [==============================] - 1s 808ms/step - loss: 0.0018 - accuracy: 1.0000\n",
            "Epoch 96/300\n",
            "1/1 [==============================] - 1s 545ms/step - loss: 0.0017 - accuracy: 1.0000\n",
            "Epoch 97/300\n",
            "1/1 [==============================] - 1s 526ms/step - loss: 0.0017 - accuracy: 1.0000\n",
            "Epoch 98/300\n",
            "1/1 [==============================] - 1s 541ms/step - loss: 0.0016 - accuracy: 1.0000\n",
            "Epoch 99/300\n",
            "1/1 [==============================] - 1s 526ms/step - loss: 0.0015 - accuracy: 1.0000\n",
            "Epoch 100/300\n",
            "1/1 [==============================] - 1s 554ms/step - loss: 0.0014 - accuracy: 1.0000\n",
            "Epoch 101/300\n",
            "1/1 [==============================] - 1s 526ms/step - loss: 0.0013 - accuracy: 1.0000\n",
            "Epoch 102/300\n",
            "1/1 [==============================] - 1s 551ms/step - loss: 0.0013 - accuracy: 1.0000\n",
            "Epoch 103/300\n",
            "1/1 [==============================] - 1s 529ms/step - loss: 0.0012 - accuracy: 1.0000\n",
            "Epoch 104/300\n",
            "1/1 [==============================] - 1s 543ms/step - loss: 0.0012 - accuracy: 1.0000\n",
            "Epoch 105/300\n",
            "1/1 [==============================] - 1s 534ms/step - loss: 0.0011 - accuracy: 1.0000\n",
            "Epoch 106/300\n",
            "1/1 [==============================] - 1s 556ms/step - loss: 0.0010 - accuracy: 1.0000\n",
            "Epoch 107/300\n",
            "1/1 [==============================] - 1s 543ms/step - loss: 9.9111e-04 - accuracy: 1.0000\n",
            "Epoch 108/300\n",
            "1/1 [==============================] - 1s 535ms/step - loss: 9.4345e-04 - accuracy: 1.0000\n",
            "Epoch 109/300\n",
            "1/1 [==============================] - 1s 538ms/step - loss: 8.9817e-04 - accuracy: 1.0000\n",
            "Epoch 110/300\n",
            "1/1 [==============================] - 1s 530ms/step - loss: 8.5588e-04 - accuracy: 1.0000\n",
            "Epoch 111/300\n",
            "1/1 [==============================] - 1s 545ms/step - loss: 8.1467e-04 - accuracy: 1.0000\n",
            "Epoch 112/300\n",
            "1/1 [==============================] - 1s 532ms/step - loss: 7.7621e-04 - accuracy: 1.0000\n",
            "Epoch 113/300\n",
            "1/1 [==============================] - 1s 541ms/step - loss: 7.3929e-04 - accuracy: 1.0000\n",
            "Epoch 114/300\n",
            "1/1 [==============================] - 1s 534ms/step - loss: 7.0485e-04 - accuracy: 1.0000\n",
            "Epoch 115/300\n",
            "1/1 [==============================] - 1s 596ms/step - loss: 6.7177e-04 - accuracy: 1.0000\n",
            "Epoch 116/300\n",
            "1/1 [==============================] - 1s 532ms/step - loss: 6.4080e-04 - accuracy: 1.0000\n",
            "Epoch 117/300\n",
            "1/1 [==============================] - 1s 561ms/step - loss: 6.1091e-04 - accuracy: 1.0000\n",
            "Epoch 118/300\n",
            "1/1 [==============================] - 1s 520ms/step - loss: 5.8294e-04 - accuracy: 1.0000\n",
            "Epoch 119/300\n",
            "1/1 [==============================] - 1s 543ms/step - loss: 5.5600e-04 - accuracy: 1.0000\n",
            "Epoch 120/300\n",
            "1/1 [==============================] - 1s 526ms/step - loss: 5.3091e-04 - accuracy: 1.0000\n",
            "Epoch 121/300\n",
            "1/1 [==============================] - 1s 553ms/step - loss: 5.0675e-04 - accuracy: 1.0000\n",
            "Epoch 122/300\n",
            "1/1 [==============================] - 1s 543ms/step - loss: 4.8409e-04 - accuracy: 1.0000\n",
            "Epoch 123/300\n",
            "1/1 [==============================] - 1s 539ms/step - loss: 4.6217e-04 - accuracy: 1.0000\n",
            "Epoch 124/300\n",
            "1/1 [==============================] - 1s 538ms/step - loss: 4.4170e-04 - accuracy: 1.0000\n",
            "Epoch 125/300\n",
            "1/1 [==============================] - 1s 536ms/step - loss: 4.2196e-04 - accuracy: 1.0000\n",
            "Epoch 126/300\n",
            "1/1 [==============================] - 1s 545ms/step - loss: 4.0319e-04 - accuracy: 1.0000\n",
            "Epoch 127/300\n",
            "1/1 [==============================] - 1s 533ms/step - loss: 3.8548e-04 - accuracy: 1.0000\n",
            "Epoch 128/300\n",
            "1/1 [==============================] - 1s 533ms/step - loss: 3.6874e-04 - accuracy: 1.0000\n",
            "Epoch 129/300\n",
            "1/1 [==============================] - 1s 549ms/step - loss: 3.5269e-04 - accuracy: 1.0000\n",
            "Epoch 130/300\n",
            "1/1 [==============================] - 1s 546ms/step - loss: 3.3741e-04 - accuracy: 1.0000\n",
            "Epoch 131/300\n",
            "1/1 [==============================] - 1s 542ms/step - loss: 3.2280e-04 - accuracy: 1.0000\n",
            "Epoch 132/300\n",
            "1/1 [==============================] - 1s 541ms/step - loss: 3.0903e-04 - accuracy: 1.0000\n",
            "Epoch 133/300\n",
            "1/1 [==============================] - 1s 522ms/step - loss: 2.9574e-04 - accuracy: 1.0000\n",
            "Epoch 134/300\n",
            "1/1 [==============================] - 1s 544ms/step - loss: 2.8314e-04 - accuracy: 1.0000\n",
            "Epoch 135/300\n",
            "1/1 [==============================] - 1s 532ms/step - loss: 2.7113e-04 - accuracy: 1.0000\n",
            "Epoch 136/300\n",
            "1/1 [==============================] - 1s 532ms/step - loss: 2.5980e-04 - accuracy: 1.0000\n",
            "Epoch 137/300\n",
            "1/1 [==============================] - 1s 536ms/step - loss: 2.4881e-04 - accuracy: 1.0000\n",
            "Epoch 138/300\n",
            "1/1 [==============================] - 1s 529ms/step - loss: 2.3843e-04 - accuracy: 1.0000\n",
            "Epoch 139/300\n",
            "1/1 [==============================] - 1s 524ms/step - loss: 2.2847e-04 - accuracy: 1.0000\n",
            "Epoch 140/300\n",
            "1/1 [==============================] - 1s 535ms/step - loss: 2.1901e-04 - accuracy: 1.0000\n",
            "Epoch 141/300\n",
            "1/1 [==============================] - 1s 528ms/step - loss: 2.0996e-04 - accuracy: 1.0000\n",
            "Epoch 142/300\n",
            "1/1 [==============================] - 1s 539ms/step - loss: 2.0133e-04 - accuracy: 1.0000\n",
            "Epoch 143/300\n",
            "1/1 [==============================] - 1s 523ms/step - loss: 1.9306e-04 - accuracy: 1.0000\n",
            "Epoch 144/300\n",
            "1/1 [==============================] - 1s 562ms/step - loss: 1.8519e-04 - accuracy: 1.0000\n",
            "Epoch 145/300\n",
            "1/1 [==============================] - 1s 535ms/step - loss: 1.7763e-04 - accuracy: 1.0000\n",
            "Epoch 146/300\n",
            "1/1 [==============================] - 1s 531ms/step - loss: 1.7047e-04 - accuracy: 1.0000\n",
            "Epoch 147/300\n",
            "1/1 [==============================] - 1s 542ms/step - loss: 1.6350e-04 - accuracy: 1.0000\n",
            "Epoch 148/300\n",
            "1/1 [==============================] - 1s 536ms/step - loss: 1.5692e-04 - accuracy: 1.0000\n",
            "Epoch 149/300\n",
            "1/1 [==============================] - 1s 657ms/step - loss: 1.5070e-04 - accuracy: 1.0000\n",
            "Epoch 150/300\n",
            "1/1 [==============================] - 1s 664ms/step - loss: 1.4465e-04 - accuracy: 1.0000\n",
            "Epoch 151/300\n",
            "1/1 [==============================] - 1s 622ms/step - loss: 1.3882e-04 - accuracy: 1.0000\n",
            "Epoch 152/300\n",
            "1/1 [==============================] - 1s 640ms/step - loss: 1.3331e-04 - accuracy: 1.0000\n",
            "Epoch 153/300\n",
            "1/1 [==============================] - 1s 611ms/step - loss: 1.2801e-04 - accuracy: 1.0000\n",
            "Epoch 154/300\n",
            "1/1 [==============================] - 1s 619ms/step - loss: 1.2296e-04 - accuracy: 1.0000\n",
            "Epoch 155/300\n",
            "1/1 [==============================] - 1s 785ms/step - loss: 1.1808e-04 - accuracy: 1.0000\n",
            "Epoch 156/300\n",
            "1/1 [==============================] - 2s 2s/step - loss: 1.1343e-04 - accuracy: 1.0000\n",
            "Epoch 157/300\n",
            "1/1 [==============================] - 1s 1s/step - loss: 1.0897e-04 - accuracy: 1.0000\n",
            "Epoch 158/300\n",
            "1/1 [==============================] - 1s 996ms/step - loss: 1.0471e-04 - accuracy: 1.0000\n",
            "Epoch 159/300\n",
            "1/1 [==============================] - 1s 978ms/step - loss: 1.0061e-04 - accuracy: 1.0000\n",
            "Epoch 160/300\n",
            "1/1 [==============================] - 1s 1s/step - loss: 9.6666e-05 - accuracy: 1.0000\n",
            "Epoch 161/300\n",
            "1/1 [==============================] - 1s 1s/step - loss: 9.2885e-05 - accuracy: 1.0000\n",
            "Epoch 162/300\n",
            "1/1 [==============================] - 1s 1s/step - loss: 8.9291e-05 - accuracy: 1.0000\n",
            "Epoch 163/300\n",
            "1/1 [==============================] - 1s 1s/step - loss: 8.5831e-05 - accuracy: 1.0000\n",
            "Epoch 164/300\n",
            "1/1 [==============================] - 2s 2s/step - loss: 8.2512e-05 - accuracy: 1.0000\n",
            "Epoch 165/300\n",
            "1/1 [==============================] - 2s 2s/step - loss: 7.9309e-05 - accuracy: 1.0000\n",
            "Epoch 166/300\n",
            "1/1 [==============================] - 1s 1s/step - loss: 7.6236e-05 - accuracy: 1.0000\n",
            "Epoch 167/300\n",
            "1/1 [==============================] - 1s 1s/step - loss: 7.3297e-05 - accuracy: 1.0000\n",
            "Epoch 168/300\n",
            "1/1 [==============================] - 1s 1s/step - loss: 7.0474e-05 - accuracy: 1.0000\n",
            "Epoch 169/300\n",
            "1/1 [==============================] - 1s 1s/step - loss: 6.7758e-05 - accuracy: 1.0000\n",
            "Epoch 170/300\n",
            "1/1 [==============================] - 1s 1s/step - loss: 6.5151e-05 - accuracy: 1.0000\n",
            "Epoch 171/300\n",
            "1/1 [==============================] - 1s 995ms/step - loss: 6.2667e-05 - accuracy: 1.0000\n",
            "Epoch 172/300\n",
            "1/1 [==============================] - 1s 857ms/step - loss: 6.0286e-05 - accuracy: 1.0000\n",
            "Epoch 173/300\n",
            "1/1 [==============================] - 1s 1s/step - loss: 5.7966e-05 - accuracy: 1.0000\n",
            "Epoch 174/300\n",
            "1/1 [==============================] - 1s 561ms/step - loss: 5.5768e-05 - accuracy: 1.0000\n",
            "Epoch 175/300\n",
            "1/1 [==============================] - 1s 634ms/step - loss: 5.3611e-05 - accuracy: 1.0000\n",
            "Epoch 176/300\n",
            "1/1 [==============================] - 1s 958ms/step - loss: 5.1589e-05 - accuracy: 1.0000\n",
            "Epoch 177/300\n",
            "1/1 [==============================] - 1s 884ms/step - loss: 4.9615e-05 - accuracy: 1.0000\n",
            "Epoch 178/300\n",
            "1/1 [==============================] - 1s 984ms/step - loss: 4.7745e-05 - accuracy: 1.0000\n",
            "Epoch 179/300\n",
            "1/1 [==============================] - 1s 565ms/step - loss: 4.5905e-05 - accuracy: 1.0000\n",
            "Epoch 180/300\n",
            "1/1 [==============================] - 1s 559ms/step - loss: 4.4154e-05 - accuracy: 1.0000\n",
            "Epoch 181/300\n",
            "1/1 [==============================] - 1s 550ms/step - loss: 4.2481e-05 - accuracy: 1.0000\n",
            "Epoch 182/300\n",
            "1/1 [==============================] - 1s 563ms/step - loss: 4.0868e-05 - accuracy: 1.0000\n",
            "Epoch 183/300\n",
            "1/1 [==============================] - 1s 569ms/step - loss: 3.9334e-05 - accuracy: 1.0000\n",
            "Epoch 184/300\n",
            "1/1 [==============================] - 1s 575ms/step - loss: 3.7836e-05 - accuracy: 1.0000\n",
            "Epoch 185/300\n",
            "1/1 [==============================] - 1s 605ms/step - loss: 3.6402e-05 - accuracy: 1.0000\n",
            "Epoch 186/300\n",
            "1/1 [==============================] - 1s 1s/step - loss: 3.5024e-05 - accuracy: 1.0000\n",
            "Epoch 187/300\n",
            "1/1 [==============================] - 1s 936ms/step - loss: 3.3713e-05 - accuracy: 1.0000\n",
            "Epoch 188/300\n",
            "1/1 [==============================] - 1s 1s/step - loss: 3.2446e-05 - accuracy: 1.0000\n",
            "Epoch 189/300\n",
            "1/1 [==============================] - 1s 538ms/step - loss: 3.1209e-05 - accuracy: 1.0000\n",
            "Epoch 190/300\n",
            "1/1 [==============================] - 1s 555ms/step - loss: 3.0051e-05 - accuracy: 1.0000\n",
            "Epoch 191/300\n",
            "1/1 [==============================] - 1s 564ms/step - loss: 2.8919e-05 - accuracy: 1.0000\n",
            "Epoch 192/300\n",
            "1/1 [==============================] - 1s 605ms/step - loss: 2.7831e-05 - accuracy: 1.0000\n",
            "Epoch 193/300\n",
            "1/1 [==============================] - 1s 539ms/step - loss: 2.6777e-05 - accuracy: 1.0000\n",
            "Epoch 194/300\n",
            "1/1 [==============================] - 1s 564ms/step - loss: 2.5786e-05 - accuracy: 1.0000\n",
            "Epoch 195/300\n",
            "1/1 [==============================] - 1s 571ms/step - loss: 2.4821e-05 - accuracy: 1.0000\n",
            "Epoch 196/300\n",
            "1/1 [==============================] - 1s 557ms/step - loss: 2.3897e-05 - accuracy: 1.0000\n",
            "Epoch 197/300\n",
            "1/1 [==============================] - 1s 536ms/step - loss: 2.2984e-05 - accuracy: 1.0000\n",
            "Epoch 198/300\n",
            "1/1 [==============================] - 1s 555ms/step - loss: 2.2124e-05 - accuracy: 1.0000\n",
            "Epoch 199/300\n",
            "1/1 [==============================] - 1s 551ms/step - loss: 2.1312e-05 - accuracy: 1.0000\n",
            "Epoch 200/300\n",
            "1/1 [==============================] - 1s 537ms/step - loss: 2.0507e-05 - accuracy: 1.0000\n",
            "Epoch 201/300\n",
            "1/1 [==============================] - 1s 561ms/step - loss: 1.9747e-05 - accuracy: 1.0000\n",
            "Epoch 202/300\n",
            "1/1 [==============================] - 1s 554ms/step - loss: 1.9010e-05 - accuracy: 1.0000\n",
            "Epoch 203/300\n",
            "1/1 [==============================] - 1s 549ms/step - loss: 1.8317e-05 - accuracy: 1.0000\n",
            "Epoch 204/300\n",
            "1/1 [==============================] - 1s 547ms/step - loss: 1.7624e-05 - accuracy: 1.0000\n",
            "Epoch 205/300\n",
            "1/1 [==============================] - 1s 544ms/step - loss: 1.6968e-05 - accuracy: 1.0000\n",
            "Epoch 206/300\n",
            "1/1 [==============================] - 1s 578ms/step - loss: 1.6346e-05 - accuracy: 1.0000\n",
            "Epoch 207/300\n",
            "1/1 [==============================] - 1s 575ms/step - loss: 1.5747e-05 - accuracy: 1.0000\n",
            "Epoch 208/300\n",
            "1/1 [==============================] - 1s 549ms/step - loss: 1.5151e-05 - accuracy: 1.0000\n",
            "Epoch 209/300\n",
            "1/1 [==============================] - 1s 558ms/step - loss: 1.4595e-05 - accuracy: 1.0000\n",
            "Epoch 210/300\n",
            "1/1 [==============================] - 1s 567ms/step - loss: 1.4055e-05 - accuracy: 1.0000\n",
            "Epoch 211/300\n",
            "1/1 [==============================] - 1s 616ms/step - loss: 1.3549e-05 - accuracy: 1.0000\n",
            "Epoch 212/300\n",
            "1/1 [==============================] - 1s 545ms/step - loss: 1.3042e-05 - accuracy: 1.0000\n",
            "Epoch 213/300\n",
            "1/1 [==============================] - 1s 571ms/step - loss: 1.2565e-05 - accuracy: 1.0000\n",
            "Epoch 214/300\n",
            "1/1 [==============================] - 1s 553ms/step - loss: 1.2111e-05 - accuracy: 1.0000\n",
            "Epoch 215/300\n",
            "1/1 [==============================] - 1s 538ms/step - loss: 1.1675e-05 - accuracy: 1.0000\n",
            "Epoch 216/300\n",
            "1/1 [==============================] - 1s 546ms/step - loss: 1.1243e-05 - accuracy: 1.0000\n",
            "Epoch 217/300\n",
            "1/1 [==============================] - 1s 541ms/step - loss: 1.0826e-05 - accuracy: 1.0000\n",
            "Epoch 218/300\n",
            "1/1 [==============================] - 1s 544ms/step - loss: 1.0420e-05 - accuracy: 1.0000\n",
            "Epoch 219/300\n",
            "1/1 [==============================] - 1s 539ms/step - loss: 1.0062e-05 - accuracy: 1.0000\n",
            "Epoch 220/300\n",
            "1/1 [==============================] - 1s 587ms/step - loss: 9.6894e-06 - accuracy: 1.0000\n",
            "Epoch 221/300\n",
            "1/1 [==============================] - 1s 526ms/step - loss: 9.3243e-06 - accuracy: 1.0000\n",
            "Epoch 222/300\n",
            "1/1 [==============================] - 1s 568ms/step - loss: 8.9928e-06 - accuracy: 1.0000\n",
            "Epoch 223/300\n",
            "1/1 [==============================] - 1s 539ms/step - loss: 8.6985e-06 - accuracy: 1.0000\n",
            "Epoch 224/300\n",
            "1/1 [==============================] - 1s 558ms/step - loss: 8.3595e-06 - accuracy: 1.0000\n",
            "Epoch 225/300\n",
            "1/1 [==============================] - 1s 556ms/step - loss: 8.0801e-06 - accuracy: 1.0000\n",
            "Epoch 226/300\n",
            "1/1 [==============================] - 1s 569ms/step - loss: 7.7895e-06 - accuracy: 1.0000\n",
            "Epoch 227/300\n",
            "1/1 [==============================] - 1s 612ms/step - loss: 7.5213e-06 - accuracy: 1.0000\n",
            "Epoch 228/300\n",
            "1/1 [==============================] - 1s 1s/step - loss: 7.2345e-06 - accuracy: 1.0000\n",
            "Epoch 229/300\n",
            "1/1 [==============================] - 1s 1s/step - loss: 6.9811e-06 - accuracy: 1.0000\n",
            "Epoch 230/300\n",
            "1/1 [==============================] - 2s 2s/step - loss: 6.7502e-06 - accuracy: 1.0000\n",
            "Epoch 231/300\n",
            "1/1 [==============================] - 1s 826ms/step - loss: 6.5155e-06 - accuracy: 1.0000\n",
            "Epoch 232/300\n",
            "1/1 [==============================] - 1s 552ms/step - loss: 6.2771e-06 - accuracy: 1.0000\n",
            "Epoch 233/300\n",
            "1/1 [==============================] - 1s 548ms/step - loss: 6.0573e-06 - accuracy: 1.0000\n",
            "Epoch 234/300\n",
            "1/1 [==============================] - 1s 560ms/step - loss: 5.8449e-06 - accuracy: 1.0000\n",
            "Epoch 235/300\n",
            "1/1 [==============================] - 1s 567ms/step - loss: 5.6475e-06 - accuracy: 1.0000\n",
            "Epoch 236/300\n",
            "1/1 [==============================] - 1s 532ms/step - loss: 5.4389e-06 - accuracy: 1.0000\n",
            "Epoch 237/300\n",
            "1/1 [==============================] - 1s 554ms/step - loss: 5.2489e-06 - accuracy: 1.0000\n",
            "Epoch 238/300\n",
            "1/1 [==============================] - 1s 539ms/step - loss: 5.0701e-06 - accuracy: 1.0000\n",
            "Epoch 239/300\n",
            "1/1 [==============================] - 1s 543ms/step - loss: 4.8876e-06 - accuracy: 1.0000\n",
            "Epoch 240/300\n",
            "1/1 [==============================] - 1s 551ms/step - loss: 4.7199e-06 - accuracy: 1.0000\n",
            "Epoch 241/300\n",
            "1/1 [==============================] - 1s 558ms/step - loss: 4.5560e-06 - accuracy: 1.0000\n",
            "Epoch 242/300\n",
            "1/1 [==============================] - 1s 546ms/step - loss: 4.4033e-06 - accuracy: 1.0000\n",
            "Epoch 243/300\n",
            "1/1 [==============================] - 1s 555ms/step - loss: 4.2580e-06 - accuracy: 1.0000\n",
            "Epoch 244/300\n",
            "1/1 [==============================] - 1s 542ms/step - loss: 4.1090e-06 - accuracy: 1.0000\n",
            "Epoch 245/300\n",
            "1/1 [==============================] - 1s 548ms/step - loss: 3.9823e-06 - accuracy: 1.0000\n",
            "Epoch 246/300\n",
            "1/1 [==============================] - 1s 541ms/step - loss: 3.8519e-06 - accuracy: 1.0000\n",
            "Epoch 247/300\n",
            "1/1 [==============================] - 1s 556ms/step - loss: 3.7178e-06 - accuracy: 1.0000\n",
            "Epoch 248/300\n",
            "1/1 [==============================] - 1s 547ms/step - loss: 3.5837e-06 - accuracy: 1.0000\n",
            "Epoch 249/300\n",
            "1/1 [==============================] - 1s 545ms/step - loss: 3.4533e-06 - accuracy: 1.0000\n",
            "Epoch 250/300\n",
            "1/1 [==============================] - 1s 553ms/step - loss: 3.3490e-06 - accuracy: 1.0000\n",
            "Epoch 251/300\n",
            "1/1 [==============================] - 1s 557ms/step - loss: 3.2447e-06 - accuracy: 1.0000\n",
            "Epoch 252/300\n",
            "1/1 [==============================] - 1s 551ms/step - loss: 3.1479e-06 - accuracy: 1.0000\n",
            "Epoch 253/300\n",
            "1/1 [==============================] - 1s 542ms/step - loss: 3.0473e-06 - accuracy: 1.0000\n",
            "Epoch 254/300\n",
            "1/1 [==============================] - 1s 549ms/step - loss: 2.9467e-06 - accuracy: 1.0000\n",
            "Epoch 255/300\n",
            "1/1 [==============================] - 1s 553ms/step - loss: 2.8312e-06 - accuracy: 1.0000\n",
            "Epoch 256/300\n",
            "1/1 [==============================] - 1s 600ms/step - loss: 2.7604e-06 - accuracy: 1.0000\n",
            "Epoch 257/300\n",
            "1/1 [==============================] - 1s 553ms/step - loss: 2.6710e-06 - accuracy: 1.0000\n",
            "Epoch 258/300\n",
            "1/1 [==============================] - 1s 615ms/step - loss: 2.5853e-06 - accuracy: 1.0000\n",
            "Epoch 259/300\n",
            "1/1 [==============================] - 1s 550ms/step - loss: 2.5071e-06 - accuracy: 1.0000\n",
            "Epoch 260/300\n",
            "1/1 [==============================] - 1s 555ms/step - loss: 2.4140e-06 - accuracy: 1.0000\n",
            "Epoch 261/300\n",
            "1/1 [==============================] - 1s 543ms/step - loss: 2.3432e-06 - accuracy: 1.0000\n",
            "Epoch 262/300\n",
            "1/1 [==============================] - 1s 545ms/step - loss: 2.2687e-06 - accuracy: 1.0000\n",
            "Epoch 263/300\n",
            "1/1 [==============================] - 1s 556ms/step - loss: 2.2277e-06 - accuracy: 1.0000\n",
            "Epoch 264/300\n",
            "1/1 [==============================] - 1s 540ms/step - loss: 2.1383e-06 - accuracy: 1.0000\n",
            "Epoch 265/300\n",
            "1/1 [==============================] - 1s 548ms/step - loss: 2.0713e-06 - accuracy: 1.0000\n",
            "Epoch 266/300\n",
            "1/1 [==============================] - 1s 534ms/step - loss: 2.0079e-06 - accuracy: 1.0000\n",
            "Epoch 267/300\n",
            "1/1 [==============================] - 1s 553ms/step - loss: 1.9558e-06 - accuracy: 1.0000\n",
            "Epoch 268/300\n",
            "1/1 [==============================] - 1s 524ms/step - loss: 1.8962e-06 - accuracy: 1.0000\n",
            "Epoch 269/300\n",
            "1/1 [==============================] - 1s 553ms/step - loss: 1.8366e-06 - accuracy: 1.0000\n",
            "Epoch 270/300\n",
            "1/1 [==============================] - 1s 552ms/step - loss: 1.7807e-06 - accuracy: 1.0000\n",
            "Epoch 271/300\n",
            "1/1 [==============================] - 1s 539ms/step - loss: 1.7323e-06 - accuracy: 1.0000\n",
            "Epoch 272/300\n",
            "1/1 [==============================] - 1s 545ms/step - loss: 1.6876e-06 - accuracy: 1.0000\n",
            "Epoch 273/300\n",
            "1/1 [==============================] - 1s 550ms/step - loss: 1.6391e-06 - accuracy: 1.0000\n",
            "Epoch 274/300\n",
            "1/1 [==============================] - 1s 524ms/step - loss: 1.5981e-06 - accuracy: 1.0000\n",
            "Epoch 275/300\n",
            "1/1 [==============================] - 1s 542ms/step - loss: 1.5385e-06 - accuracy: 1.0000\n",
            "Epoch 276/300\n",
            "1/1 [==============================] - 1s 554ms/step - loss: 1.5013e-06 - accuracy: 1.0000\n",
            "Epoch 277/300\n",
            "1/1 [==============================] - 1s 533ms/step - loss: 1.4640e-06 - accuracy: 1.0000\n",
            "Epoch 278/300\n",
            "1/1 [==============================] - 1s 553ms/step - loss: 1.4193e-06 - accuracy: 1.0000\n",
            "Epoch 279/300\n",
            "1/1 [==============================] - 1s 549ms/step - loss: 1.3970e-06 - accuracy: 1.0000\n",
            "Epoch 280/300\n",
            "1/1 [==============================] - 1s 548ms/step - loss: 1.3486e-06 - accuracy: 1.0000\n",
            "Epoch 281/300\n",
            "1/1 [==============================] - 1s 561ms/step - loss: 1.3001e-06 - accuracy: 1.0000\n",
            "Epoch 282/300\n",
            "1/1 [==============================] - 1s 546ms/step - loss: 1.2740e-06 - accuracy: 1.0000\n",
            "Epoch 283/300\n",
            "1/1 [==============================] - 1s 536ms/step - loss: 1.2368e-06 - accuracy: 1.0000\n",
            "Epoch 284/300\n",
            "1/1 [==============================] - 1s 544ms/step - loss: 1.2182e-06 - accuracy: 1.0000\n",
            "Epoch 285/300\n",
            "1/1 [==============================] - 1s 527ms/step - loss: 1.1697e-06 - accuracy: 1.0000\n",
            "Epoch 286/300\n",
            "1/1 [==============================] - 1s 554ms/step - loss: 1.1437e-06 - accuracy: 1.0000\n",
            "Epoch 287/300\n",
            "1/1 [==============================] - 1s 565ms/step - loss: 1.1176e-06 - accuracy: 1.0000\n",
            "Epoch 288/300\n",
            "1/1 [==============================] - 1s 555ms/step - loss: 1.0952e-06 - accuracy: 1.0000\n",
            "Epoch 289/300\n",
            "1/1 [==============================] - 1s 529ms/step - loss: 1.0692e-06 - accuracy: 1.0000\n",
            "Epoch 290/300\n",
            "1/1 [==============================] - 1s 561ms/step - loss: 1.0543e-06 - accuracy: 1.0000\n",
            "Epoch 291/300\n",
            "1/1 [==============================] - 1s 557ms/step - loss: 1.0245e-06 - accuracy: 1.0000\n",
            "Epoch 292/300\n",
            "1/1 [==============================] - 1s 528ms/step - loss: 1.0058e-06 - accuracy: 1.0000\n",
            "Epoch 293/300\n",
            "1/1 [==============================] - 1s 546ms/step - loss: 9.6112e-07 - accuracy: 1.0000\n",
            "Epoch 294/300\n",
            "1/1 [==============================] - 1s 540ms/step - loss: 9.4250e-07 - accuracy: 1.0000\n",
            "Epoch 295/300\n",
            "1/1 [==============================] - 1s 534ms/step - loss: 9.2760e-07 - accuracy: 1.0000\n",
            "Epoch 296/300\n",
            "1/1 [==============================] - 1s 526ms/step - loss: 9.0524e-07 - accuracy: 1.0000\n",
            "Epoch 297/300\n",
            "1/1 [==============================] - 1s 555ms/step - loss: 8.8289e-07 - accuracy: 1.0000\n",
            "Epoch 298/300\n",
            "1/1 [==============================] - 1s 566ms/step - loss: 8.5682e-07 - accuracy: 1.0000\n",
            "Epoch 299/300\n",
            "1/1 [==============================] - 1s 556ms/step - loss: 8.4564e-07 - accuracy: 1.0000\n",
            "Epoch 300/300\n",
            "1/1 [==============================] - 1s 537ms/step - loss: 8.2701e-07 - accuracy: 1.0000\n"
          ]
        },
        {
          "output_type": "execute_result",
          "data": {
            "text/plain": [
              "<keras.callbacks.History at 0x7ff790c08910>"
            ]
          },
          "metadata": {},
          "execution_count": 16
        }
      ]
    },
    {
      "cell_type": "code",
      "source": [
        "from keras.utils import load_img\n",
        "from keras.utils import img_to_array,load_img\n",
        "import matplotlib.pyplot as plt\n",
        "import numpy as np\n",
        "from keras.models import load_model\n",
        "img = load_img('/content/drive/MyDrive/Trung III/Colab ( file ảnh )/Gạo/Test/Arborio/Arborio (5).jpg',target_size=(200,200))\n",
        "plt.imshow(img)\n",
        "img = img_to_array(img)\n",
        "img = img.astype('float32')\n",
        "img= img.reshape(1,200*200*3)\n",
        "img = img/255\n",
        "print(model.predict(img))\n",
        "a= int(np.argmax(model.predict(img),axis=1))\n",
        "print(\"Đây là:\", label[a])"
      ],
      "metadata": {
        "colab": {
          "base_uri": "https://localhost:8080/",
          "height": 338
        },
        "id": "aGHOvod6240X",
        "outputId": "b3c7691f-5905-45a4-b154-85df556852bb"
      },
      "execution_count": 22,
      "outputs": [
        {
          "output_type": "stream",
          "name": "stdout",
          "text": [
            "1/1 [==============================] - 0s 48ms/step\n",
            "[[1. 0. 0. 0. 0.]]\n",
            "1/1 [==============================] - 0s 47ms/step\n",
            "Đây là: Arborio\n"
          ]
        },
        {
          "output_type": "display_data",
          "data": {
            "text/plain": [
              "<Figure size 432x288 with 1 Axes>"
            ],
            "image/png": "[encoded data removed]"
          },
          "metadata": {
            "needs_background": "light"
          }
        }
      ]
    },
    {
      "cell_type": "code",
      "source": [
        "from keras.utils import load_img\n",
        "from keras.utils import img_to_array,load_img\n",
        "import matplotlib.pyplot as plt\n",
        "import numpy as np\n",
        "from keras.models import load_model\n",
        "img = load_img('/content/drive/MyDrive/Trung III/Colab ( file ảnh )/Gạo/Test/Basmati/basmati (10).jpg',target_size=(200,200))\n",
        "plt.imshow(img)\n",
        "img = img_to_array(img)\n",
        "img = img.astype('float32')\n",
        "img= img.reshape(1,200*200*3)\n",
        "img = img/255\n",
        "print(model.predict(img))\n",
        "a= int(np.argmax(model.predict(img),axis=1))\n",
        "print(\"Đây là:\", label[a])"
      ],
      "metadata": {
        "colab": {
          "base_uri": "https://localhost:8080/",
          "height": 338
        },
        "id": "_enG2zvW243U",
        "outputId": "0f58abca-9720-459f-fcb9-53f31d865d57"
      },
      "execution_count": 24,
      "outputs": [
        {
          "output_type": "stream",
          "name": "stdout",
          "text": [
            "1/1 [==============================] - 0s 46ms/step\n",
            "[[4.7697506e-30 1.0000000e+00 0.0000000e+00 0.0000000e+00 0.0000000e+00]]\n",
            "1/1 [==============================] - 0s 49ms/step\n",
            "Đây là: Basmati\n"
          ]
        },
        {
          "output_type": "display_data",
          "data": {
            "text/plain": [
              "<Figure size 432x288 with 1 Axes>"
            ],
            "image/png": "[encoded data removed]"
          },
          "metadata": {
            "needs_background": "light"
          }
        }
      ]
    },
    {
      "cell_type": "code",
      "source": [
        "from keras.utils import load_img\n",
        "from keras.utils import img_to_array,load_img\n",
        "import matplotlib.pyplot as plt\n",
        "import numpy as np\n",
        "from keras.models import load_model\n",
        "img = load_img('/content/drive/MyDrive/Trung III/Colab ( file ảnh )/Gạo/Test/Ipsala/Ipsala (1) - Copy.jpg',target_size=(200,200))\n",
        "plt.imshow(img)\n",
        "img = img_to_array(img)\n",
        "img = img.astype('float32')\n",
        "img= img.reshape(1,200*200*3)\n",
        "img = img/255\n",
        "print(model.predict(img))\n",
        "a= int(np.argmax(model.predict(img),axis=1))\n",
        "print(\"Đây là:\", label[a])\n"
      ],
      "metadata": {
        "colab": {
          "base_uri": "https://localhost:8080/",
          "height": 338
        },
        "id": "RYYHYXyN246n",
        "outputId": "3c874550-c297-4d38-e47f-8777a8edef31"
      },
      "execution_count": 25,
      "outputs": [
        {
          "output_type": "stream",
          "name": "stdout",
          "text": [
            "1/1 [==============================] - 0s 45ms/step\n",
            "[[0. 0. 1. 0. 0.]]\n",
            "1/1 [==============================] - 0s 44ms/step\n",
            "Đây là: Ipsala\n"
          ]
        },
        {
          "output_type": "display_data",
          "data": {
            "text/plain": [
              "<Figure size 432x288 with 1 Axes>"
            ],
            "image/png": "[encoded data removed]"
          },
          "metadata": {
            "needs_background": "light"
          }
        }
      ]
    },
    {
      "cell_type": "code",
      "source": [
        "from keras.utils import load_img\n",
        "from keras.utils import img_to_array,load_img\n",
        "import matplotlib.pyplot as plt\n",
        "import numpy as np\n",
        "from keras.models import load_model\n",
        "img = load_img('/content/drive/MyDrive/Trung III/Colab ( file ảnh )/Gạo/Test/Jasmine/Jasmine (6).jpg',target_size=(200,200))\n",
        "plt.imshow(img)\n",
        "img = img_to_array(img)\n",
        "img = img.astype('float32')\n",
        "img= img.reshape(1,200*200*3)\n",
        "img = img/255\n",
        "print(model.predict(img))\n",
        "a= int(np.argmax(model.predict(img),axis=1))\n",
        "print(\"Đây là:\", label[a])"
      ],
      "metadata": {
        "colab": {
          "base_uri": "https://localhost:8080/",
          "height": 338
        },
        "id": "7OPRfo-z249N",
        "outputId": "2644581c-672c-40b5-a30a-bd8317001be4"
      },
      "execution_count": 32,
      "outputs": [
        {
          "output_type": "stream",
          "name": "stdout",
          "text": [
            "1/1 [==============================] - 0s 46ms/step\n",
            "[[0. 0. 0. 1. 0.]]\n",
            "1/1 [==============================] - 0s 44ms/step\n",
            "Đây là: Jasmine\n"
          ]
        },
        {
          "output_type": "display_data",
          "data": {
            "text/plain": [
              "<Figure size 432x288 with 1 Axes>"
            ],
            "image/png": "[encoded data removed]"
          },
          "metadata": {
            "needs_background": "light"
          }
        }
      ]
    },
    {
      "cell_type": "code",
      "source": [
        "from keras.utils import load_img\n",
        "from keras.utils import img_to_array,load_img\n",
        "import matplotlib.pyplot as plt\n",
        "import numpy as np\n",
        "from keras.models import load_model\n",
        "img = load_img('/content/drive/MyDrive/Trung III/Colab ( file ảnh )/Gạo/Test/Karacadag/Karacadag (1).jpg',target_size=(200,200))\n",
        "plt.imshow(img)\n",
        "img = img_to_array(img)\n",
        "img = img.astype('float32')\n",
        "img= img.reshape(1,200*200*3)\n",
        "img = img/255\n",
        "print(model.predict(img))\n",
        "a= int(np.argmax(model.predict(img),axis=1))\n",
        "print(\"Đây là:\", label[a])"
      ],
      "metadata": {
        "colab": {
          "base_uri": "https://localhost:8080/",
          "height": 338
        },
        "id": "5O4QoiQA25AL",
        "outputId": "56ecccf6-3b5b-497f-986d-10023948b156"
      },
      "execution_count": 33,
      "outputs": [
        {
          "output_type": "stream",
          "name": "stdout",
          "text": [
            "1/1 [==============================] - 0s 51ms/step\n",
            "[[0. 0. 0. 0. 1.]]\n",
            "1/1 [==============================] - 0s 45ms/step\n",
            "Đây là: Karacadag\n"
          ]
        },
        {
          "output_type": "display_data",
          "data": {
            "text/plain": [
              "<Figure size 432x288 with 1 Axes>"
            ],
            "image/png": "[encoded data removed]"
          },
          "metadata": {
            "needs_background": "light"
          }
        }
      ]
    }
  ]
}